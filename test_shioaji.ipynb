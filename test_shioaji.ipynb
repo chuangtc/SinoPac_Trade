{
 "metadata": {
  "language_info": {
   "codemirror_mode": {
    "name": "ipython",
    "version": 3
   },
   "file_extension": ".py",
   "mimetype": "text/x-python",
   "name": "python",
   "nbconvert_exporter": "python",
   "pygments_lexer": "ipython3",
   "version": 3
  },
  "orig_nbformat": 4
 },
 "nbformat": 4,
 "nbformat_minor": 2,
 "cells": [
  {
   "cell_type": "code",
   "execution_count": null,
   "source": [
    "import shioaji as sj\r\n",
    "\r\n",
    "api = sj.Shioaji(backend='http', simulation=False)\r\n",
    "person_id = 'User_id'\r\n",
    "api.login(person_id=person_id, passwd='password')\r\n",
    "api.list_accounts()"
   ],
   "outputs": [],
   "metadata": {}
  },
  {
   "cell_type": "code",
   "execution_count": null,
   "source": [
    "account_margin = api.get_account_margin()\r\n",
    "account_margin"
   ],
   "outputs": [],
   "metadata": {}
  }
 ]
}